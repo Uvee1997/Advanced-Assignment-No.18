{
 "cells": [
  {
   "cell_type": "markdown",
   "id": "b4dae344",
   "metadata": {},
   "source": [
    "1) Describe the differences between text and binary files in a single paragraph.\n",
    "\n",
    ":- A text file is the one in which data is stored in the form of ASCII characters and is normally used for storing a stream    of characters. Text files are organized around lines, each of which ends with a newline character (‘\\n’). The source        code files are themselves text files.\n",
    "   A binary file is the one in which data is stored in the file in the same way as it is stored in the main memory for        processing. It stores binary format instead of ASCII characters. It normally used for storing numeric information          (int,float,double)"
   ]
  },
  {
   "cell_type": "markdown",
   "id": "e2236a09",
   "metadata": {},
   "source": [
    "2) What are some scenarios where using text files will be the better option? When would you like to\n",
    "   use binary files instead of text files?\n",
    "   \n",
    ":- Because of their simplicity, text files are commonly used for storage of information. They avoid some of the problems      encountered with other file formats, such as endianness, padding bytes, or differences in the number of bytes in a          machine word. Text files are used to store data more user friendly. Binary files stores data more compactly. Text file      are more restrictive than binary files. So when you have to save accurate & more confidential data we have to binary        file  ]"
   ]
  },
  {
   "cell_type": "markdown",
   "id": "9ee2a822",
   "metadata": {},
   "source": [
    "3) What are some of the issues with using binary operations to read and write a Python integer\n",
    "   directly to disc?\n",
    "    \n",
    ":- There are 8 bits in a byte\n",
    "   Bits either consist of a 0 or a 1\n",
    "   A byte can be interpreted in different ways, like binary octal or hexadecimal \n",
    "    have a string (it could be an integer too) in Python and I want to write it to a file. It contains only ones and zeros     I want that pattern of ones and zeros to be written to a file. I want to write the binary directly because I need to       store a lot of data, but only certain values. I see no need to take up the space of using eight bit per value when I       only need three."
   ]
  },
  {
   "cell_type": "markdown",
   "id": "f895e6bf",
   "metadata": {},
   "source": [
    "4) Describe a benefit of using the with keyword instead of explicitly opening a file.\n",
    "\n",
    ":- Using with means that the file will be closed as soon as you leave the block. This is beneficial because this function returns a file object, also called a handle, as it is used to read or modify the file accordingly.ause closing a file    is something that can easily be forgotten and ties up resources that you no longer need. This function returns a file object, also called a handle, as it is used to read or modify the file accordingly."
   ]
  },
  {
   "cell_type": "markdown",
   "id": "2e544770",
   "metadata": {},
   "source": [
    "5) Does Python have the trailing newline while reading a line of text? Does Python append a newline when you write a line of text?\n",
    "\n",
    ":- Here, are important characteristics of Python read line: Python readline() method reads only one complete line from the    file given. It appends a newline (“\\n”) at the end of the line. If you open the file in normal read mode, readline()        will return you the string. Use strip() and the restrip() method to read a line without newline in python.The strip()      method in Python helps in omitting the spaces that are present at the beginning (leading) and at the end (trailing).        Besides white spaces, the strip() method also includes the newline characters."
   ]
  },
  {
   "cell_type": "markdown",
   "id": "47dfc973",
   "metadata": {},
   "source": [
    "6) What file operations enable for random-access operation?\n",
    "\n",
    ":- This class is used for reading and writing to random access file. A random access file behaves like a large array of        bytes. Read & write file operation enable for random-access operation "
   ]
  },
  {
   "cell_type": "markdown",
   "id": "8b85a92d",
   "metadata": {},
   "source": [
    "7) When do you think you'll use the struct package the most?\n",
    "\n",
    ":- The struct module in Python is used to convert native Python data types such as strings and numbers into a string of        bytes and vice versa. What this means is that users can parse binary files of data stored in C structs in Python. If in    the given datatype both number & strings are present, you have convert both of them in bytes then you have to use struct    package most"
   ]
  },
  {
   "cell_type": "markdown",
   "id": "e46ee0fe",
   "metadata": {},
   "source": [
    "8) When is pickling the best option?\n",
    "\n",
    ":- 'Pickling' is the process whereby a Python object hierarchy is converted into a byte streamIf you want to serialize &       deserialized a python object structure the pickling is used."
   ]
  },
  {
   "cell_type": "markdown",
   "id": "891c5c94",
   "metadata": {},
   "source": [
    "9) When will it be best to use the shelve package?\n",
    "\n",
    ":- The shelve module in Python's standard library is a simple yet effective tool for persistent data storage when using a      relational database solution is not required. The shelve package implements persistent storage for arbitrary Python        objects which can be pickled, using a dictionary-like API.\n"
   ]
  },
  {
   "cell_type": "markdown",
   "id": "23ddc982",
   "metadata": {},
   "source": [
    "10) What is a special restriction when using the shelve package, as opposed to using other data dictionaries?\n",
    "\n",
    ":- Only string data type can be used as key in this special dictionary object, whereas any picklable Python object can be      used as value."
   ]
  }
 ],
 "metadata": {
  "kernelspec": {
   "display_name": "Python 3 (ipykernel)",
   "language": "python",
   "name": "python3"
  },
  "language_info": {
   "codemirror_mode": {
    "name": "ipython",
    "version": 3
   },
   "file_extension": ".py",
   "mimetype": "text/x-python",
   "name": "python",
   "nbconvert_exporter": "python",
   "pygments_lexer": "ipython3",
   "version": "3.9.7"
  }
 },
 "nbformat": 4,
 "nbformat_minor": 5
}
